{
 "cells": [
  {
   "cell_type": "markdown",
   "id": "2547e61c-4ec3-4868-9c97-32014f14c646",
   "metadata": {},
   "source": [
    "## Step 1: Import Required Libraries"
   ]
  },
  {
   "cell_type": "code",
   "execution_count": 1,
   "id": "d8b0b381-a1a7-44ec-9c88-b64659984f3d",
   "metadata": {},
   "outputs": [],
   "source": [
    "import pandas as pd\n",
    "import numpy as np\n",
    "import matplotlib.pyplot as plt\n",
    "import seaborn as sns"
   ]
  },
  {
   "cell_type": "markdown",
   "id": "9f04aee2-3bd4-45e8-818a-75f507599d48",
   "metadata": {},
   "source": [
    "## Step 2: Load the Datasets"
   ]
  },
  {
   "cell_type": "code",
   "execution_count": 2,
   "id": "91daf9fd-e7a3-45a9-a980-958e3cf09d1c",
   "metadata": {},
   "outputs": [
    {
     "name": "stdout",
     "output_type": "stream",
     "text": [
      "Datasets loaded successfully!\n",
      "\n",
      "Rainfall dataset preview:\n"
     ]
    },
    {
     "data": {
      "text/html": [
       "<div>\n",
       "<style scoped>\n",
       "    .dataframe tbody tr th:only-of-type {\n",
       "        vertical-align: middle;\n",
       "    }\n",
       "\n",
       "    .dataframe tbody tr th {\n",
       "        vertical-align: top;\n",
       "    }\n",
       "\n",
       "    .dataframe thead th {\n",
       "        text-align: right;\n",
       "    }\n",
       "</style>\n",
       "<table border=\"1\" class=\"dataframe\">\n",
       "  <thead>\n",
       "    <tr style=\"text-align: right;\">\n",
       "      <th></th>\n",
       "      <th>Year</th>\n",
       "      <th>Actual</th>\n",
       "      <th>Forecast</th>\n",
       "      <th>Remark</th>\n",
       "    </tr>\n",
       "  </thead>\n",
       "  <tbody>\n",
       "    <tr>\n",
       "      <th>0</th>\n",
       "      <td>2020</td>\n",
       "      <td>111</td>\n",
       "      <td>102</td>\n",
       "      <td>Outside the forecast error limit</td>\n",
       "    </tr>\n",
       "    <tr>\n",
       "      <th>1</th>\n",
       "      <td>2021</td>\n",
       "      <td>100</td>\n",
       "      <td>101</td>\n",
       "      <td>Accurate</td>\n",
       "    </tr>\n",
       "    <tr>\n",
       "      <th>2</th>\n",
       "      <td>2022</td>\n",
       "      <td>106</td>\n",
       "      <td>103</td>\n",
       "      <td>Accurate</td>\n",
       "    </tr>\n",
       "    <tr>\n",
       "      <th>3</th>\n",
       "      <td>2023</td>\n",
       "      <td>95</td>\n",
       "      <td>96</td>\n",
       "      <td>Accurate</td>\n",
       "    </tr>\n",
       "    <tr>\n",
       "      <th>4</th>\n",
       "      <td>2024</td>\n",
       "      <td>108</td>\n",
       "      <td>106</td>\n",
       "      <td>Accurate</td>\n",
       "    </tr>\n",
       "  </tbody>\n",
       "</table>\n",
       "</div>"
      ],
      "text/plain": [
       "   Year  Actual  Forecast                            Remark\n",
       "0  2020     111       102  Outside the forecast error limit\n",
       "1  2021     100       101                          Accurate\n",
       "2  2022     106       103                          Accurate\n",
       "3  2023      95        96                          Accurate\n",
       "4  2024     108       106                          Accurate"
      ]
     },
     "metadata": {},
     "output_type": "display_data"
    },
    {
     "name": "stdout",
     "output_type": "stream",
     "text": [
      "\n",
      "Agriculture dataset preview:\n"
     ]
    },
    {
     "data": {
      "text/html": [
       "<div>\n",
       "<style scoped>\n",
       "    .dataframe tbody tr th:only-of-type {\n",
       "        vertical-align: middle;\n",
       "    }\n",
       "\n",
       "    .dataframe tbody tr th {\n",
       "        vertical-align: top;\n",
       "    }\n",
       "\n",
       "    .dataframe thead th {\n",
       "        text-align: right;\n",
       "    }\n",
       "</style>\n",
       "<table border=\"1\" class=\"dataframe\">\n",
       "  <thead>\n",
       "    <tr style=\"text-align: right;\">\n",
       "      <th></th>\n",
       "      <th>Sr. No.</th>\n",
       "      <th>Crops</th>\n",
       "      <th>Area</th>\n",
       "      <th>Production</th>\n",
       "      <th>Yield</th>\n",
       "    </tr>\n",
       "  </thead>\n",
       "  <tbody>\n",
       "    <tr>\n",
       "      <th>0</th>\n",
       "      <td>1.0</td>\n",
       "      <td>Groundnut</td>\n",
       "      <td>1694.42</td>\n",
       "      <td>4642.46</td>\n",
       "      <td>2739.85</td>\n",
       "    </tr>\n",
       "    <tr>\n",
       "      <th>1</th>\n",
       "      <td>2.0</td>\n",
       "      <td>Castor seed</td>\n",
       "      <td>724.77</td>\n",
       "      <td>1551.72</td>\n",
       "      <td>2140.99</td>\n",
       "    </tr>\n",
       "    <tr>\n",
       "      <th>2</th>\n",
       "      <td>3.0</td>\n",
       "      <td>Sesamum</td>\n",
       "      <td>163.31</td>\n",
       "      <td>130.71</td>\n",
       "      <td>800.42</td>\n",
       "    </tr>\n",
       "    <tr>\n",
       "      <th>3</th>\n",
       "      <td>4.0</td>\n",
       "      <td>Rapeseed &amp; Mustard</td>\n",
       "      <td>277.35</td>\n",
       "      <td>554.53</td>\n",
       "      <td>1999.41</td>\n",
       "    </tr>\n",
       "    <tr>\n",
       "      <th>4</th>\n",
       "      <td>5.0</td>\n",
       "      <td>Soyabean</td>\n",
       "      <td>265.74</td>\n",
       "      <td>488.30</td>\n",
       "      <td>1837.52</td>\n",
       "    </tr>\n",
       "  </tbody>\n",
       "</table>\n",
       "</div>"
      ],
      "text/plain": [
       "   Sr. No.                Crops     Area  Production   Yield \n",
       "0       1.0           Groundnut  1694.42     4642.46  2739.85\n",
       "1       2.0         Castor seed   724.77     1551.72  2140.99\n",
       "2       3.0             Sesamum   163.31      130.71   800.42\n",
       "3       4.0  Rapeseed & Mustard   277.35      554.53  1999.41\n",
       "4       5.0            Soyabean   265.74      488.30  1837.52"
      ]
     },
     "metadata": {},
     "output_type": "display_data"
    }
   ],
   "source": [
    "rainfall_df = pd.read_csv(r\"D:\\Internship_Project\\datasets\\rainfall_IMD.csv\")\n",
    "agri_df = pd.read_csv(r\"D:\\Internship_Project\\datasets\\agriculture_gujarat.csv\")\n",
    "\n",
    "print(\"Datasets loaded successfully!\\n\")\n",
    "\n",
    "print(\"Rainfall dataset preview:\")\n",
    "display(rainfall_df.head())\n",
    "\n",
    "print(\"\\nAgriculture dataset preview:\")\n",
    "display(agri_df.head())"
   ]
  },
  {
   "cell_type": "markdown",
   "id": "193a6492-404b-4ee1-959e-258c324f5f7f",
   "metadata": {},
   "source": [
    "## Step 3: Inspect Basic Info"
   ]
  },
  {
   "cell_type": "code",
   "execution_count": 12,
   "id": "3986c1b6-990d-47ec-bbd5-23be478c8b72",
   "metadata": {},
   "outputs": [
    {
     "name": "stdout",
     "output_type": "stream",
     "text": [
      "----------------------------------------\n",
      "\n",
      "Rainfall Dataset Info:\n",
      "-----------------------\n",
      "<class 'pandas.core.frame.DataFrame'>\n",
      "RangeIndex: 5 entries, 0 to 4\n",
      "Data columns (total 4 columns):\n",
      " #   Column    Non-Null Count  Dtype \n",
      "---  ------    --------------  ----- \n",
      " 0   Year      5 non-null      int64 \n",
      " 1   Actual    5 non-null      int64 \n",
      " 2   Forecast  5 non-null      int64 \n",
      " 3   Remark    5 non-null      object\n",
      "dtypes: int64(3), object(1)\n",
      "memory usage: 292.0+ bytes\n",
      "None \n",
      "\n",
      "----------------------------------------\n",
      "\n",
      "Agriculture Dataset Info:\n",
      "--------------------------\n",
      "<class 'pandas.core.frame.DataFrame'>\n",
      "RangeIndex: 7 entries, 0 to 6\n",
      "Data columns (total 5 columns):\n",
      " #   Column      Non-Null Count  Dtype  \n",
      "---  ------      --------------  -----  \n",
      " 0   Sr. No.     6 non-null      float64\n",
      " 1   Crops       7 non-null      object \n",
      " 2   Area        7 non-null      float64\n",
      " 3   Production  7 non-null      float64\n",
      " 4   Yield       7 non-null      float64\n",
      "dtypes: float64(4), object(1)\n",
      "memory usage: 412.0+ bytes\n",
      "None \n",
      "\n",
      "----------------------------------------\n",
      "\n",
      "Null values check:\n",
      "-------------------\n",
      "Rainfall nulls:\n",
      " Year        0\n",
      "Actual      0\n",
      "Forecast    0\n",
      "Remark      0\n",
      "dtype: int64\n",
      "Agriculture nulls:\n",
      " Sr. No.       1\n",
      "Crops         0\n",
      "Area          0\n",
      "Production    0\n",
      "Yield         0\n",
      "dtype: int64\n"
     ]
    }
   ],
   "source": [
    "print(\"----------------------------------------\\n\")\n",
    "print(\"Rainfall Dataset Info:\")\n",
    "print(\"-----------------------\")\n",
    "print(rainfall_df.info(), \"\\n\")\n",
    "print(\"----------------------------------------\\n\")\n",
    "print(\"Agriculture Dataset Info:\")\n",
    "print(\"--------------------------\")\n",
    "print(agri_df.info(), \"\\n\")\n",
    "print(\"----------------------------------------\\n\")\n",
    "print(\"Null values check:\")\n",
    "print(\"-------------------\")\n",
    "print(\"Rainfall nulls:\\n\", rainfall_df.isnull().sum())\n",
    "print(\"Agriculture nulls:\\n\", agri_df.isnull().sum())"
   ]
  },
  {
   "cell_type": "markdown",
   "id": "fac6086a-91e1-453c-b305-d7321182b118",
   "metadata": {},
   "source": [
    "## Step 4: Clean Column Names"
   ]
  },
  {
   "cell_type": "code",
   "execution_count": 13,
   "id": "7fa121a7-778f-405c-a2df-ce9278c0fb53",
   "metadata": {},
   "outputs": [
    {
     "name": "stdout",
     "output_type": "stream",
     "text": [
      "Cleaned Column Names:\n",
      "\n",
      "Rainfall: ['Year', 'Actual', 'Forecast', 'Remark']\n",
      "Agriculture: ['Sr._No.', 'Crops', 'Area', 'Production', 'Yield']\n"
     ]
    }
   ],
   "source": [
    "rainfall_df.columns = rainfall_df.columns.str.strip().str.replace(\" \", \"_\")\n",
    "agri_df.columns = agri_df.columns.str.strip().str.replace(\" \", \"_\")\n",
    "\n",
    "print(\"Cleaned Column Names:\\n\")\n",
    "print(\"Rainfall:\", rainfall_df.columns.tolist())\n",
    "print(\"Agriculture:\", agri_df.columns.tolist())"
   ]
  },
  {
   "cell_type": "markdown",
   "id": "66b0d8ae-c293-4502-8973-0f880c19fa2b",
   "metadata": {},
   "source": [
    "## Step 5: Handle Extra Rows / Summaries"
   ]
  },
  {
   "cell_type": "code",
   "execution_count": 14,
   "id": "8aec5722-a957-46b9-8abe-96da2949aa5b",
   "metadata": {},
   "outputs": [
    {
     "name": "stdout",
     "output_type": "stream",
     "text": [
      "Cleaned agriculture data (after removing 'Total' row):\n"
     ]
    },
    {
     "data": {
      "text/html": [
       "<div>\n",
       "<style scoped>\n",
       "    .dataframe tbody tr th:only-of-type {\n",
       "        vertical-align: middle;\n",
       "    }\n",
       "\n",
       "    .dataframe tbody tr th {\n",
       "        vertical-align: top;\n",
       "    }\n",
       "\n",
       "    .dataframe thead th {\n",
       "        text-align: right;\n",
       "    }\n",
       "</style>\n",
       "<table border=\"1\" class=\"dataframe\">\n",
       "  <thead>\n",
       "    <tr style=\"text-align: right;\">\n",
       "      <th></th>\n",
       "      <th>Sr._No.</th>\n",
       "      <th>Crops</th>\n",
       "      <th>Area</th>\n",
       "      <th>Production</th>\n",
       "      <th>Yield</th>\n",
       "    </tr>\n",
       "  </thead>\n",
       "  <tbody>\n",
       "    <tr>\n",
       "      <th>0</th>\n",
       "      <td>1.0</td>\n",
       "      <td>Groundnut</td>\n",
       "      <td>1694.42</td>\n",
       "      <td>4642.46</td>\n",
       "      <td>2739.85</td>\n",
       "    </tr>\n",
       "    <tr>\n",
       "      <th>1</th>\n",
       "      <td>2.0</td>\n",
       "      <td>Castor seed</td>\n",
       "      <td>724.77</td>\n",
       "      <td>1551.72</td>\n",
       "      <td>2140.99</td>\n",
       "    </tr>\n",
       "    <tr>\n",
       "      <th>2</th>\n",
       "      <td>3.0</td>\n",
       "      <td>Sesamum</td>\n",
       "      <td>163.31</td>\n",
       "      <td>130.71</td>\n",
       "      <td>800.42</td>\n",
       "    </tr>\n",
       "    <tr>\n",
       "      <th>3</th>\n",
       "      <td>4.0</td>\n",
       "      <td>Rapeseed &amp; Mustard</td>\n",
       "      <td>277.35</td>\n",
       "      <td>554.53</td>\n",
       "      <td>1999.41</td>\n",
       "    </tr>\n",
       "    <tr>\n",
       "      <th>4</th>\n",
       "      <td>5.0</td>\n",
       "      <td>Soyabean</td>\n",
       "      <td>265.74</td>\n",
       "      <td>488.30</td>\n",
       "      <td>1837.52</td>\n",
       "    </tr>\n",
       "    <tr>\n",
       "      <th>5</th>\n",
       "      <td>6.0</td>\n",
       "      <td>Other Oilseeds</td>\n",
       "      <td>1.36</td>\n",
       "      <td>0.90</td>\n",
       "      <td>664.47</td>\n",
       "    </tr>\n",
       "  </tbody>\n",
       "</table>\n",
       "</div>"
      ],
      "text/plain": [
       "   Sr._No.               Crops     Area  Production    Yield\n",
       "0      1.0           Groundnut  1694.42     4642.46  2739.85\n",
       "1      2.0         Castor seed   724.77     1551.72  2140.99\n",
       "2      3.0             Sesamum   163.31      130.71   800.42\n",
       "3      4.0  Rapeseed & Mustard   277.35      554.53  1999.41\n",
       "4      5.0            Soyabean   265.74      488.30  1837.52\n",
       "5      6.0      Other Oilseeds     1.36        0.90   664.47"
      ]
     },
     "metadata": {},
     "output_type": "display_data"
    }
   ],
   "source": [
    "agri_df = agri_df[~agri_df['Crops'].str.contains(\"Total\", case=False, na=False)].reset_index(drop=True)\n",
    "\n",
    "print(\"Cleaned agriculture data (after removing 'Total' row):\")\n",
    "display(agri_df)"
   ]
  },
  {
   "cell_type": "markdown",
   "id": "955f14e2-7a30-4bdf-b16c-127a704e6cdd",
   "metadata": {},
   "source": [
    "## Step 6: Convert Datatypes"
   ]
  },
  {
   "cell_type": "code",
   "execution_count": 15,
   "id": "8bbfb81b-ecff-4a1c-ba9a-e140fe4d4106",
   "metadata": {},
   "outputs": [
    {
     "name": "stdout",
     "output_type": "stream",
     "text": [
      "Datatypes fixed!\n"
     ]
    }
   ],
   "source": [
    "num_cols_agri = ['Area', 'Production', 'Yield']\n",
    "agri_df[num_cols_agri] = agri_df[num_cols_agri].apply(pd.to_numeric, errors='coerce')\n",
    "\n",
    "num_cols_rain = ['Year', 'Actual', 'Forecast']\n",
    "rainfall_df[num_cols_rain] = rainfall_df[num_cols_rain].apply(pd.to_numeric, errors='coerce')\n",
    "\n",
    "print(\"Datatypes fixed!\")"
   ]
  },
  {
   "cell_type": "markdown",
   "id": "4e078221-d529-46c2-85ca-3a99d4e7bf46",
   "metadata": {},
   "source": [
    "## Step 7: Add “State” and “Year” Columns for Integration"
   ]
  },
  {
   "cell_type": "code",
   "execution_count": 16,
   "id": "95d0ce7e-e859-4e6b-9cc0-5036ce831459",
   "metadata": {},
   "outputs": [
    {
     "name": "stdout",
     "output_type": "stream",
     "text": [
      "Context columns added:\n"
     ]
    },
    {
     "data": {
      "text/html": [
       "<div>\n",
       "<style scoped>\n",
       "    .dataframe tbody tr th:only-of-type {\n",
       "        vertical-align: middle;\n",
       "    }\n",
       "\n",
       "    .dataframe tbody tr th {\n",
       "        vertical-align: top;\n",
       "    }\n",
       "\n",
       "    .dataframe thead th {\n",
       "        text-align: right;\n",
       "    }\n",
       "</style>\n",
       "<table border=\"1\" class=\"dataframe\">\n",
       "  <thead>\n",
       "    <tr style=\"text-align: right;\">\n",
       "      <th></th>\n",
       "      <th>Sr._No.</th>\n",
       "      <th>Crops</th>\n",
       "      <th>Area</th>\n",
       "      <th>Production</th>\n",
       "      <th>Yield</th>\n",
       "      <th>State</th>\n",
       "      <th>Year</th>\n",
       "    </tr>\n",
       "  </thead>\n",
       "  <tbody>\n",
       "    <tr>\n",
       "      <th>0</th>\n",
       "      <td>1.0</td>\n",
       "      <td>Groundnut</td>\n",
       "      <td>1694.42</td>\n",
       "      <td>4642.46</td>\n",
       "      <td>2739.85</td>\n",
       "      <td>Gujarat</td>\n",
       "      <td>2024</td>\n",
       "    </tr>\n",
       "    <tr>\n",
       "      <th>1</th>\n",
       "      <td>2.0</td>\n",
       "      <td>Castor seed</td>\n",
       "      <td>724.77</td>\n",
       "      <td>1551.72</td>\n",
       "      <td>2140.99</td>\n",
       "      <td>Gujarat</td>\n",
       "      <td>2024</td>\n",
       "    </tr>\n",
       "    <tr>\n",
       "      <th>2</th>\n",
       "      <td>3.0</td>\n",
       "      <td>Sesamum</td>\n",
       "      <td>163.31</td>\n",
       "      <td>130.71</td>\n",
       "      <td>800.42</td>\n",
       "      <td>Gujarat</td>\n",
       "      <td>2024</td>\n",
       "    </tr>\n",
       "    <tr>\n",
       "      <th>3</th>\n",
       "      <td>4.0</td>\n",
       "      <td>Rapeseed &amp; Mustard</td>\n",
       "      <td>277.35</td>\n",
       "      <td>554.53</td>\n",
       "      <td>1999.41</td>\n",
       "      <td>Gujarat</td>\n",
       "      <td>2024</td>\n",
       "    </tr>\n",
       "    <tr>\n",
       "      <th>4</th>\n",
       "      <td>5.0</td>\n",
       "      <td>Soyabean</td>\n",
       "      <td>265.74</td>\n",
       "      <td>488.30</td>\n",
       "      <td>1837.52</td>\n",
       "      <td>Gujarat</td>\n",
       "      <td>2024</td>\n",
       "    </tr>\n",
       "  </tbody>\n",
       "</table>\n",
       "</div>"
      ],
      "text/plain": [
       "   Sr._No.               Crops     Area  Production    Yield    State  Year\n",
       "0      1.0           Groundnut  1694.42     4642.46  2739.85  Gujarat  2024\n",
       "1      2.0         Castor seed   724.77     1551.72  2140.99  Gujarat  2024\n",
       "2      3.0             Sesamum   163.31      130.71   800.42  Gujarat  2024\n",
       "3      4.0  Rapeseed & Mustard   277.35      554.53  1999.41  Gujarat  2024\n",
       "4      5.0            Soyabean   265.74      488.30  1837.52  Gujarat  2024"
      ]
     },
     "metadata": {},
     "output_type": "display_data"
    },
    {
     "data": {
      "text/html": [
       "<div>\n",
       "<style scoped>\n",
       "    .dataframe tbody tr th:only-of-type {\n",
       "        vertical-align: middle;\n",
       "    }\n",
       "\n",
       "    .dataframe tbody tr th {\n",
       "        vertical-align: top;\n",
       "    }\n",
       "\n",
       "    .dataframe thead th {\n",
       "        text-align: right;\n",
       "    }\n",
       "</style>\n",
       "<table border=\"1\" class=\"dataframe\">\n",
       "  <thead>\n",
       "    <tr style=\"text-align: right;\">\n",
       "      <th></th>\n",
       "      <th>Year</th>\n",
       "      <th>Actual</th>\n",
       "      <th>Forecast</th>\n",
       "      <th>Remark</th>\n",
       "      <th>State</th>\n",
       "    </tr>\n",
       "  </thead>\n",
       "  <tbody>\n",
       "    <tr>\n",
       "      <th>0</th>\n",
       "      <td>2020</td>\n",
       "      <td>111</td>\n",
       "      <td>102</td>\n",
       "      <td>Outside the forecast error limit</td>\n",
       "      <td>All-India</td>\n",
       "    </tr>\n",
       "    <tr>\n",
       "      <th>1</th>\n",
       "      <td>2021</td>\n",
       "      <td>100</td>\n",
       "      <td>101</td>\n",
       "      <td>Accurate</td>\n",
       "      <td>All-India</td>\n",
       "    </tr>\n",
       "    <tr>\n",
       "      <th>2</th>\n",
       "      <td>2022</td>\n",
       "      <td>106</td>\n",
       "      <td>103</td>\n",
       "      <td>Accurate</td>\n",
       "      <td>All-India</td>\n",
       "    </tr>\n",
       "    <tr>\n",
       "      <th>3</th>\n",
       "      <td>2023</td>\n",
       "      <td>95</td>\n",
       "      <td>96</td>\n",
       "      <td>Accurate</td>\n",
       "      <td>All-India</td>\n",
       "    </tr>\n",
       "    <tr>\n",
       "      <th>4</th>\n",
       "      <td>2024</td>\n",
       "      <td>108</td>\n",
       "      <td>106</td>\n",
       "      <td>Accurate</td>\n",
       "      <td>All-India</td>\n",
       "    </tr>\n",
       "  </tbody>\n",
       "</table>\n",
       "</div>"
      ],
      "text/plain": [
       "   Year  Actual  Forecast                            Remark      State\n",
       "0  2020     111       102  Outside the forecast error limit  All-India\n",
       "1  2021     100       101                          Accurate  All-India\n",
       "2  2022     106       103                          Accurate  All-India\n",
       "3  2023      95        96                          Accurate  All-India\n",
       "4  2024     108       106                          Accurate  All-India"
      ]
     },
     "metadata": {},
     "output_type": "display_data"
    }
   ],
   "source": [
    "agri_df['State'] = 'Gujarat'\n",
    "agri_df['Year'] = 2024  # assume latest agricultural cycle\n",
    "rainfall_df['State'] = 'All-India'\n",
    "\n",
    "print(\"Context columns added:\")\n",
    "display(agri_df.head())\n",
    "display(rainfall_df.head())"
   ]
  },
  {
   "cell_type": "markdown",
   "id": "0fbe3989-5391-4ac3-a523-8cd8081b3192",
   "metadata": {},
   "source": [
    "## Step 8: Quick Sanity Visualization"
   ]
  },
  {
   "cell_type": "code",
   "execution_count": 17,
   "id": "90beaf24-99a9-462d-a351-661c69a9201a",
   "metadata": {},
   "outputs": [
    {
     "name": "stderr",
     "output_type": "stream",
     "text": [
      "C:\\Users\\hp\\AppData\\Local\\Temp\\ipykernel_2924\\801268974.py:2: FutureWarning: \n",
      "\n",
      "Passing `palette` without assigning `hue` is deprecated and will be removed in v0.14.0. Assign the `x` variable to `hue` and set `legend=False` for the same effect.\n",
      "\n",
      "  sns.barplot(x='Crops', y='Yield', data=agri_df, palette='viridis')\n"
     ]
    },
    {
     "data": {
      "image/png": "[encoded data removed]",
      "text/plain": [
       "<Figure size 800x400 with 1 Axes>"
      ]
     },
     "metadata": {},
     "output_type": "display_data"
    },
    {
     "data": {
      "image/png": "[encoded data removed]",
      "text/plain": [
       "<Figure size 600x400 with 1 Axes>"
      ]
     },
     "metadata": {},
     "output_type": "display_data"
    }
   ],
   "source": [
    "plt.figure(figsize=(8,4))\n",
    "sns.barplot(x='Crops', y='Yield', data=agri_df, palette='viridis')\n",
    "plt.title('Yield per Crop in Gujarat (2024)')\n",
    "plt.xticks(rotation=45)\n",
    "plt.tight_layout()\n",
    "plt.show()\n",
    "\n",
    "plt.figure(figsize=(6,4))\n",
    "sns.lineplot(x='Year', y='Actual', data=rainfall_df, marker='o')\n",
    "plt.title('IMD Actual Rainfall Trend (2020–2024)')\n",
    "plt.show()"
   ]
  },
  {
   "cell_type": "markdown",
   "id": "1b4869c3-67ae-43b3-bd4f-3d79066580e5",
   "metadata": {},
   "source": [
    "## Step 9: Save Cleaned Files"
   ]
  },
  {
   "cell_type": "code",
   "execution_count": 18,
   "id": "78c83bb2-c056-47e4-b70a-436cbc4a3a92",
   "metadata": {},
   "outputs": [
    {
     "name": "stdout",
     "output_type": "stream",
     "text": [
      "Cleaned datasets saved successfully in D drive!\n"
     ]
    }
   ],
   "source": [
    "agri_df.to_csv(r\"D:\\Internship_Project\\datasets\\agriculture_gujarat_clean.csv\", index=False)\n",
    "rainfall_df.to_csv(r\"D:\\Internship_Project\\datasets\\rainfall_IMD_clean.csv\", index=False)\n",
    "\n",
    "print(\"Cleaned datasets saved successfully in D drive!\")"
   ]
  },
  {
   "cell_type": "code",
   "execution_count": 21,
   "id": "c4d0635a-980f-4686-9488-135de3a5ba7c",
   "metadata": {},
   "outputs": [
    {
     "name": "stdout",
     "output_type": "stream",
     "text": [
      "Datasets loaded successfully!\n",
      "\n",
      "Rainfall dataset preview:\n"
     ]
    },
    {
     "data": {
      "text/html": [
       "<div>\n",
       "<style scoped>\n",
       "    .dataframe tbody tr th:only-of-type {\n",
       "        vertical-align: middle;\n",
       "    }\n",
       "\n",
       "    .dataframe tbody tr th {\n",
       "        vertical-align: top;\n",
       "    }\n",
       "\n",
       "    .dataframe thead th {\n",
       "        text-align: right;\n",
       "    }\n",
       "</style>\n",
       "<table border=\"1\" class=\"dataframe\">\n",
       "  <thead>\n",
       "    <tr style=\"text-align: right;\">\n",
       "      <th></th>\n",
       "      <th>Year</th>\n",
       "      <th>Actual</th>\n",
       "      <th>Forecast</th>\n",
       "      <th>Remark</th>\n",
       "      <th>State</th>\n",
       "    </tr>\n",
       "  </thead>\n",
       "  <tbody>\n",
       "    <tr>\n",
       "      <th>0</th>\n",
       "      <td>2020</td>\n",
       "      <td>111</td>\n",
       "      <td>102</td>\n",
       "      <td>Outside the forecast error limit</td>\n",
       "      <td>All-India</td>\n",
       "    </tr>\n",
       "    <tr>\n",
       "      <th>1</th>\n",
       "      <td>2021</td>\n",
       "      <td>100</td>\n",
       "      <td>101</td>\n",
       "      <td>Accurate</td>\n",
       "      <td>All-India</td>\n",
       "    </tr>\n",
       "    <tr>\n",
       "      <th>2</th>\n",
       "      <td>2022</td>\n",
       "      <td>106</td>\n",
       "      <td>103</td>\n",
       "      <td>Accurate</td>\n",
       "      <td>All-India</td>\n",
       "    </tr>\n",
       "    <tr>\n",
       "      <th>3</th>\n",
       "      <td>2023</td>\n",
       "      <td>95</td>\n",
       "      <td>96</td>\n",
       "      <td>Accurate</td>\n",
       "      <td>All-India</td>\n",
       "    </tr>\n",
       "    <tr>\n",
       "      <th>4</th>\n",
       "      <td>2024</td>\n",
       "      <td>108</td>\n",
       "      <td>106</td>\n",
       "      <td>Accurate</td>\n",
       "      <td>All-India</td>\n",
       "    </tr>\n",
       "  </tbody>\n",
       "</table>\n",
       "</div>"
      ],
      "text/plain": [
       "   Year  Actual  Forecast                            Remark      State\n",
       "0  2020     111       102  Outside the forecast error limit  All-India\n",
       "1  2021     100       101                          Accurate  All-India\n",
       "2  2022     106       103                          Accurate  All-India\n",
       "3  2023      95        96                          Accurate  All-India\n",
       "4  2024     108       106                          Accurate  All-India"
      ]
     },
     "metadata": {},
     "output_type": "display_data"
    },
    {
     "name": "stdout",
     "output_type": "stream",
     "text": [
      "\n",
      "Agriculture dataset preview:\n"
     ]
    },
    {
     "data": {
      "text/html": [
       "<div>\n",
       "<style scoped>\n",
       "    .dataframe tbody tr th:only-of-type {\n",
       "        vertical-align: middle;\n",
       "    }\n",
       "\n",
       "    .dataframe tbody tr th {\n",
       "        vertical-align: top;\n",
       "    }\n",
       "\n",
       "    .dataframe thead th {\n",
       "        text-align: right;\n",
       "    }\n",
       "</style>\n",
       "<table border=\"1\" class=\"dataframe\">\n",
       "  <thead>\n",
       "    <tr style=\"text-align: right;\">\n",
       "      <th></th>\n",
       "      <th>Sr._No.</th>\n",
       "      <th>Crops</th>\n",
       "      <th>Area</th>\n",
       "      <th>Production</th>\n",
       "      <th>Yield</th>\n",
       "      <th>State</th>\n",
       "      <th>Year</th>\n",
       "    </tr>\n",
       "  </thead>\n",
       "  <tbody>\n",
       "    <tr>\n",
       "      <th>0</th>\n",
       "      <td>1.0</td>\n",
       "      <td>Groundnut</td>\n",
       "      <td>1694.42</td>\n",
       "      <td>4642.46</td>\n",
       "      <td>2739.85</td>\n",
       "      <td>Gujarat</td>\n",
       "      <td>2024</td>\n",
       "    </tr>\n",
       "    <tr>\n",
       "      <th>1</th>\n",
       "      <td>2.0</td>\n",
       "      <td>Castor seed</td>\n",
       "      <td>724.77</td>\n",
       "      <td>1551.72</td>\n",
       "      <td>2140.99</td>\n",
       "      <td>Gujarat</td>\n",
       "      <td>2024</td>\n",
       "    </tr>\n",
       "    <tr>\n",
       "      <th>2</th>\n",
       "      <td>3.0</td>\n",
       "      <td>Sesamum</td>\n",
       "      <td>163.31</td>\n",
       "      <td>130.71</td>\n",
       "      <td>800.42</td>\n",
       "      <td>Gujarat</td>\n",
       "      <td>2024</td>\n",
       "    </tr>\n",
       "    <tr>\n",
       "      <th>3</th>\n",
       "      <td>4.0</td>\n",
       "      <td>Rapeseed &amp; Mustard</td>\n",
       "      <td>277.35</td>\n",
       "      <td>554.53</td>\n",
       "      <td>1999.41</td>\n",
       "      <td>Gujarat</td>\n",
       "      <td>2024</td>\n",
       "    </tr>\n",
       "    <tr>\n",
       "      <th>4</th>\n",
       "      <td>5.0</td>\n",
       "      <td>Soyabean</td>\n",
       "      <td>265.74</td>\n",
       "      <td>488.30</td>\n",
       "      <td>1837.52</td>\n",
       "      <td>Gujarat</td>\n",
       "      <td>2024</td>\n",
       "    </tr>\n",
       "  </tbody>\n",
       "</table>\n",
       "</div>"
      ],
      "text/plain": [
       "   Sr._No.               Crops     Area  Production    Yield    State  Year\n",
       "0      1.0           Groundnut  1694.42     4642.46  2739.85  Gujarat  2024\n",
       "1      2.0         Castor seed   724.77     1551.72  2140.99  Gujarat  2024\n",
       "2      3.0             Sesamum   163.31      130.71   800.42  Gujarat  2024\n",
       "3      4.0  Rapeseed & Mustard   277.35      554.53  1999.41  Gujarat  2024\n",
       "4      5.0            Soyabean   265.74      488.30  1837.52  Gujarat  2024"
      ]
     },
     "metadata": {},
     "output_type": "display_data"
    }
   ],
   "source": [
    "rainfall_df = pd.read_csv(r\"D:\\Internship_Project\\datasets\\rainfall_IMD_clean.csv\")\n",
    "agri_df = pd.read_csv(r\"D:\\Internship_Project\\datasets\\agriculture_gujarat_clean.csv\")\n",
    "\n",
    "print(\"Datasets loaded successfully!\\n\")\n",
    "\n",
    "print(\"Rainfall dataset preview:\")\n",
    "display(rainfall_df.head())\n",
    "\n",
    "print(\"\\nAgriculture dataset preview:\")\n",
    "display(agri_df.head())"
   ]
  },
  {
   "cell_type": "code",
   "execution_count": null,
   "id": "f85f5330-6208-4c49-8709-33b634306998",
   "metadata": {},
   "outputs": [],
   "source": []
  }
 ],
 "metadata": {
  "kernelspec": {
   "display_name": "Python 3 (ipykernel)",
   "language": "python",
   "name": "python3"
  },
  "language_info": {
   "codemirror_mode": {
    "name": "ipython",
    "version": 3
   },
   "file_extension": ".py",
   "mimetype": "text/x-python",
   "name": "python",
   "nbconvert_exporter": "python",
   "pygments_lexer": "ipython3",
   "version": "3.13.5"
  },
  "widgets": {
   "application/vnd.jupyter.widget-state+json": {
    "state": {},
    "version_major": 2,
    "version_minor": 0
   }
  }
 },
 "nbformat": 4,
 "nbformat_minor": 5
}
