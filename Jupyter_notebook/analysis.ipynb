{
 "cells": [
  {
   "cell_type": "markdown",
   "id": "6d5e5dfc-c604-4c0a-bbd0-40076fbfa99a",
   "metadata": {},
   "source": [
    "## Step 1: Import Required Libraries"
   ]
  },
  {
   "cell_type": "code",
   "execution_count": 1,
   "id": "9d846390-dec9-4204-8885-3e35d471d6f4",
   "metadata": {},
   "outputs": [],
   "source": [
    "import pandas as pd\n",
    "import numpy as np\n",
    "import matplotlib.pyplot as plt\n",
    "import seaborn as sns"
   ]
  },
  {
   "cell_type": "markdown",
   "id": "b5274d64-a27c-4dde-84bd-8f6b17a57cc5",
   "metadata": {},
   "source": [
    "## Step 2: Load Cleaned Datasets"
   ]
  },
  {
   "cell_type": "code",
   "execution_count": 2,
   "id": "c907da7c-f91f-40b8-95c8-ef063ab14586",
   "metadata": {},
   "outputs": [
    {
     "name": "stdout",
     "output_type": "stream",
     "text": [
      "Data loaded successfully!\n",
      "\n",
      "Agriculture Data:\n"
     ]
    },
    {
     "data": {
      "text/html": [
       "<div>\n",
       "<style scoped>\n",
       "    .dataframe tbody tr th:only-of-type {\n",
       "        vertical-align: middle;\n",
       "    }\n",
       "\n",
       "    .dataframe tbody tr th {\n",
       "        vertical-align: top;\n",
       "    }\n",
       "\n",
       "    .dataframe thead th {\n",
       "        text-align: right;\n",
       "    }\n",
       "</style>\n",
       "<table border=\"1\" class=\"dataframe\">\n",
       "  <thead>\n",
       "    <tr style=\"text-align: right;\">\n",
       "      <th></th>\n",
       "      <th>Sr._No.</th>\n",
       "      <th>Crops</th>\n",
       "      <th>Area</th>\n",
       "      <th>Production</th>\n",
       "      <th>Yield</th>\n",
       "      <th>State</th>\n",
       "      <th>Year</th>\n",
       "    </tr>\n",
       "  </thead>\n",
       "  <tbody>\n",
       "    <tr>\n",
       "      <th>0</th>\n",
       "      <td>1.0</td>\n",
       "      <td>Groundnut</td>\n",
       "      <td>1694.42</td>\n",
       "      <td>4642.46</td>\n",
       "      <td>2739.85</td>\n",
       "      <td>Gujarat</td>\n",
       "      <td>2024</td>\n",
       "    </tr>\n",
       "    <tr>\n",
       "      <th>1</th>\n",
       "      <td>2.0</td>\n",
       "      <td>Castor seed</td>\n",
       "      <td>724.77</td>\n",
       "      <td>1551.72</td>\n",
       "      <td>2140.99</td>\n",
       "      <td>Gujarat</td>\n",
       "      <td>2024</td>\n",
       "    </tr>\n",
       "    <tr>\n",
       "      <th>2</th>\n",
       "      <td>3.0</td>\n",
       "      <td>Sesamum</td>\n",
       "      <td>163.31</td>\n",
       "      <td>130.71</td>\n",
       "      <td>800.42</td>\n",
       "      <td>Gujarat</td>\n",
       "      <td>2024</td>\n",
       "    </tr>\n",
       "    <tr>\n",
       "      <th>3</th>\n",
       "      <td>4.0</td>\n",
       "      <td>Rapeseed &amp; Mustard</td>\n",
       "      <td>277.35</td>\n",
       "      <td>554.53</td>\n",
       "      <td>1999.41</td>\n",
       "      <td>Gujarat</td>\n",
       "      <td>2024</td>\n",
       "    </tr>\n",
       "    <tr>\n",
       "      <th>4</th>\n",
       "      <td>5.0</td>\n",
       "      <td>Soyabean</td>\n",
       "      <td>265.74</td>\n",
       "      <td>488.30</td>\n",
       "      <td>1837.52</td>\n",
       "      <td>Gujarat</td>\n",
       "      <td>2024</td>\n",
       "    </tr>\n",
       "  </tbody>\n",
       "</table>\n",
       "</div>"
      ],
      "text/plain": [
       "   Sr._No.               Crops     Area  Production    Yield    State  Year\n",
       "0      1.0           Groundnut  1694.42     4642.46  2739.85  Gujarat  2024\n",
       "1      2.0         Castor seed   724.77     1551.72  2140.99  Gujarat  2024\n",
       "2      3.0             Sesamum   163.31      130.71   800.42  Gujarat  2024\n",
       "3      4.0  Rapeseed & Mustard   277.35      554.53  1999.41  Gujarat  2024\n",
       "4      5.0            Soyabean   265.74      488.30  1837.52  Gujarat  2024"
      ]
     },
     "metadata": {},
     "output_type": "display_data"
    },
    {
     "name": "stdout",
     "output_type": "stream",
     "text": [
      "\n",
      "Rainfall Data:\n"
     ]
    },
    {
     "data": {
      "text/html": [
       "<div>\n",
       "<style scoped>\n",
       "    .dataframe tbody tr th:only-of-type {\n",
       "        vertical-align: middle;\n",
       "    }\n",
       "\n",
       "    .dataframe tbody tr th {\n",
       "        vertical-align: top;\n",
       "    }\n",
       "\n",
       "    .dataframe thead th {\n",
       "        text-align: right;\n",
       "    }\n",
       "</style>\n",
       "<table border=\"1\" class=\"dataframe\">\n",
       "  <thead>\n",
       "    <tr style=\"text-align: right;\">\n",
       "      <th></th>\n",
       "      <th>Year</th>\n",
       "      <th>Actual</th>\n",
       "      <th>Forecast</th>\n",
       "      <th>Remark</th>\n",
       "      <th>State</th>\n",
       "    </tr>\n",
       "  </thead>\n",
       "  <tbody>\n",
       "    <tr>\n",
       "      <th>0</th>\n",
       "      <td>2020</td>\n",
       "      <td>111</td>\n",
       "      <td>102</td>\n",
       "      <td>Outside the forecast error limit</td>\n",
       "      <td>All-India</td>\n",
       "    </tr>\n",
       "    <tr>\n",
       "      <th>1</th>\n",
       "      <td>2021</td>\n",
       "      <td>100</td>\n",
       "      <td>101</td>\n",
       "      <td>Accurate</td>\n",
       "      <td>All-India</td>\n",
       "    </tr>\n",
       "    <tr>\n",
       "      <th>2</th>\n",
       "      <td>2022</td>\n",
       "      <td>106</td>\n",
       "      <td>103</td>\n",
       "      <td>Accurate</td>\n",
       "      <td>All-India</td>\n",
       "    </tr>\n",
       "    <tr>\n",
       "      <th>3</th>\n",
       "      <td>2023</td>\n",
       "      <td>95</td>\n",
       "      <td>96</td>\n",
       "      <td>Accurate</td>\n",
       "      <td>All-India</td>\n",
       "    </tr>\n",
       "    <tr>\n",
       "      <th>4</th>\n",
       "      <td>2024</td>\n",
       "      <td>108</td>\n",
       "      <td>106</td>\n",
       "      <td>Accurate</td>\n",
       "      <td>All-India</td>\n",
       "    </tr>\n",
       "  </tbody>\n",
       "</table>\n",
       "</div>"
      ],
      "text/plain": [
       "   Year  Actual  Forecast                            Remark      State\n",
       "0  2020     111       102  Outside the forecast error limit  All-India\n",
       "1  2021     100       101                          Accurate  All-India\n",
       "2  2022     106       103                          Accurate  All-India\n",
       "3  2023      95        96                          Accurate  All-India\n",
       "4  2024     108       106                          Accurate  All-India"
      ]
     },
     "metadata": {},
     "output_type": "display_data"
    }
   ],
   "source": [
    "agri = pd.read_csv(r\"D:\\Internship_Project\\datasets\\agriculture_gujarat_clean.csv\")\n",
    "rain = pd.read_csv(r\"D:\\Internship_Project\\datasets\\rainfall_IMD_clean.csv\")\n",
    "\n",
    "print(\"Data loaded successfully!\\n\")\n",
    "print(\"Agriculture Data:\")\n",
    "display(agri.head())\n",
    "print(\"\\nRainfall Data:\")\n",
    "display(rain.head())"
   ]
  },
  {
   "cell_type": "markdown",
   "id": "91057538-bdc4-4818-a726-9dc46ae2bec3",
   "metadata": {},
   "source": [
    "## Step 3: Merge for Contextual Analysis"
   ]
  },
  {
   "cell_type": "code",
   "execution_count": 3,
   "id": "3f1d521f-5b6d-47a6-b1bf-cb178bdf8cf9",
   "metadata": {},
   "outputs": [
    {
     "name": "stdout",
     "output_type": "stream",
     "text": [
      "Merged dataset created successfully!\n"
     ]
    },
    {
     "data": {
      "text/html": [
       "<div>\n",
       "<style scoped>\n",
       "    .dataframe tbody tr th:only-of-type {\n",
       "        vertical-align: middle;\n",
       "    }\n",
       "\n",
       "    .dataframe tbody tr th {\n",
       "        vertical-align: top;\n",
       "    }\n",
       "\n",
       "    .dataframe thead th {\n",
       "        text-align: right;\n",
       "    }\n",
       "</style>\n",
       "<table border=\"1\" class=\"dataframe\">\n",
       "  <thead>\n",
       "    <tr style=\"text-align: right;\">\n",
       "      <th></th>\n",
       "      <th>Sr._No.</th>\n",
       "      <th>Crops</th>\n",
       "      <th>Area</th>\n",
       "      <th>Production</th>\n",
       "      <th>Yield</th>\n",
       "      <th>State_x</th>\n",
       "      <th>Year</th>\n",
       "      <th>Actual</th>\n",
       "      <th>Forecast</th>\n",
       "      <th>Remark</th>\n",
       "      <th>State_y</th>\n",
       "    </tr>\n",
       "  </thead>\n",
       "  <tbody>\n",
       "    <tr>\n",
       "      <th>0</th>\n",
       "      <td>1.0</td>\n",
       "      <td>Groundnut</td>\n",
       "      <td>1694.42</td>\n",
       "      <td>4642.46</td>\n",
       "      <td>2739.85</td>\n",
       "      <td>Gujarat</td>\n",
       "      <td>2024</td>\n",
       "      <td>108</td>\n",
       "      <td>106</td>\n",
       "      <td>Accurate</td>\n",
       "      <td>All-India</td>\n",
       "    </tr>\n",
       "    <tr>\n",
       "      <th>1</th>\n",
       "      <td>2.0</td>\n",
       "      <td>Castor seed</td>\n",
       "      <td>724.77</td>\n",
       "      <td>1551.72</td>\n",
       "      <td>2140.99</td>\n",
       "      <td>Gujarat</td>\n",
       "      <td>2024</td>\n",
       "      <td>108</td>\n",
       "      <td>106</td>\n",
       "      <td>Accurate</td>\n",
       "      <td>All-India</td>\n",
       "    </tr>\n",
       "    <tr>\n",
       "      <th>2</th>\n",
       "      <td>3.0</td>\n",
       "      <td>Sesamum</td>\n",
       "      <td>163.31</td>\n",
       "      <td>130.71</td>\n",
       "      <td>800.42</td>\n",
       "      <td>Gujarat</td>\n",
       "      <td>2024</td>\n",
       "      <td>108</td>\n",
       "      <td>106</td>\n",
       "      <td>Accurate</td>\n",
       "      <td>All-India</td>\n",
       "    </tr>\n",
       "    <tr>\n",
       "      <th>3</th>\n",
       "      <td>4.0</td>\n",
       "      <td>Rapeseed &amp; Mustard</td>\n",
       "      <td>277.35</td>\n",
       "      <td>554.53</td>\n",
       "      <td>1999.41</td>\n",
       "      <td>Gujarat</td>\n",
       "      <td>2024</td>\n",
       "      <td>108</td>\n",
       "      <td>106</td>\n",
       "      <td>Accurate</td>\n",
       "      <td>All-India</td>\n",
       "    </tr>\n",
       "    <tr>\n",
       "      <th>4</th>\n",
       "      <td>5.0</td>\n",
       "      <td>Soyabean</td>\n",
       "      <td>265.74</td>\n",
       "      <td>488.30</td>\n",
       "      <td>1837.52</td>\n",
       "      <td>Gujarat</td>\n",
       "      <td>2024</td>\n",
       "      <td>108</td>\n",
       "      <td>106</td>\n",
       "      <td>Accurate</td>\n",
       "      <td>All-India</td>\n",
       "    </tr>\n",
       "    <tr>\n",
       "      <th>5</th>\n",
       "      <td>6.0</td>\n",
       "      <td>Other Oilseeds</td>\n",
       "      <td>1.36</td>\n",
       "      <td>0.90</td>\n",
       "      <td>664.47</td>\n",
       "      <td>Gujarat</td>\n",
       "      <td>2024</td>\n",
       "      <td>108</td>\n",
       "      <td>106</td>\n",
       "      <td>Accurate</td>\n",
       "      <td>All-India</td>\n",
       "    </tr>\n",
       "  </tbody>\n",
       "</table>\n",
       "</div>"
      ],
      "text/plain": [
       "   Sr._No.               Crops     Area  Production    Yield  State_x  Year  \\\n",
       "0      1.0           Groundnut  1694.42     4642.46  2739.85  Gujarat  2024   \n",
       "1      2.0         Castor seed   724.77     1551.72  2140.99  Gujarat  2024   \n",
       "2      3.0             Sesamum   163.31      130.71   800.42  Gujarat  2024   \n",
       "3      4.0  Rapeseed & Mustard   277.35      554.53  1999.41  Gujarat  2024   \n",
       "4      5.0            Soyabean   265.74      488.30  1837.52  Gujarat  2024   \n",
       "5      6.0      Other Oilseeds     1.36        0.90   664.47  Gujarat  2024   \n",
       "\n",
       "   Actual  Forecast    Remark    State_y  \n",
       "0     108       106  Accurate  All-India  \n",
       "1     108       106  Accurate  All-India  \n",
       "2     108       106  Accurate  All-India  \n",
       "3     108       106  Accurate  All-India  \n",
       "4     108       106  Accurate  All-India  \n",
       "5     108       106  Accurate  All-India  "
      ]
     },
     "metadata": {},
     "output_type": "display_data"
    }
   ],
   "source": [
    "merged_df = pd.merge(agri, rain, how='left', on='Year')\n",
    "\n",
    "print(\"Merged dataset created successfully!\")\n",
    "display(merged_df)"
   ]
  },
  {
   "cell_type": "markdown",
   "id": "c4244617-8df7-4156-ad4f-ac3fca72d4e1",
   "metadata": {},
   "source": [
    "## Step 4: Compute Derived Insights"
   ]
  },
  {
   "cell_type": "code",
   "execution_count": 4,
   "id": "703bde80-e48a-4312-8cfb-27f82ea6bba1",
   "metadata": {},
   "outputs": [
    {
     "name": "stdout",
     "output_type": "stream",
     "text": [
      "Derived metrics added!\n"
     ]
    },
    {
     "data": {
      "text/html": [
       "<div>\n",
       "<style scoped>\n",
       "    .dataframe tbody tr th:only-of-type {\n",
       "        vertical-align: middle;\n",
       "    }\n",
       "\n",
       "    .dataframe tbody tr th {\n",
       "        vertical-align: top;\n",
       "    }\n",
       "\n",
       "    .dataframe thead th {\n",
       "        text-align: right;\n",
       "    }\n",
       "</style>\n",
       "<table border=\"1\" class=\"dataframe\">\n",
       "  <thead>\n",
       "    <tr style=\"text-align: right;\">\n",
       "      <th></th>\n",
       "      <th>Crops</th>\n",
       "      <th>Area</th>\n",
       "      <th>Production</th>\n",
       "      <th>Yield</th>\n",
       "      <th>Actual</th>\n",
       "      <th>Forecast</th>\n",
       "      <th>Rainfall_Difference</th>\n",
       "      <th>Yield_Efficiency</th>\n",
       "    </tr>\n",
       "  </thead>\n",
       "  <tbody>\n",
       "    <tr>\n",
       "      <th>0</th>\n",
       "      <td>Groundnut</td>\n",
       "      <td>1694.42</td>\n",
       "      <td>4642.46</td>\n",
       "      <td>2739.85</td>\n",
       "      <td>108</td>\n",
       "      <td>106</td>\n",
       "      <td>2</td>\n",
       "      <td>1.62</td>\n",
       "    </tr>\n",
       "    <tr>\n",
       "      <th>1</th>\n",
       "      <td>Castor seed</td>\n",
       "      <td>724.77</td>\n",
       "      <td>1551.72</td>\n",
       "      <td>2140.99</td>\n",
       "      <td>108</td>\n",
       "      <td>106</td>\n",
       "      <td>2</td>\n",
       "      <td>2.95</td>\n",
       "    </tr>\n",
       "    <tr>\n",
       "      <th>2</th>\n",
       "      <td>Sesamum</td>\n",
       "      <td>163.31</td>\n",
       "      <td>130.71</td>\n",
       "      <td>800.42</td>\n",
       "      <td>108</td>\n",
       "      <td>106</td>\n",
       "      <td>2</td>\n",
       "      <td>4.90</td>\n",
       "    </tr>\n",
       "    <tr>\n",
       "      <th>3</th>\n",
       "      <td>Rapeseed &amp; Mustard</td>\n",
       "      <td>277.35</td>\n",
       "      <td>554.53</td>\n",
       "      <td>1999.41</td>\n",
       "      <td>108</td>\n",
       "      <td>106</td>\n",
       "      <td>2</td>\n",
       "      <td>7.21</td>\n",
       "    </tr>\n",
       "    <tr>\n",
       "      <th>4</th>\n",
       "      <td>Soyabean</td>\n",
       "      <td>265.74</td>\n",
       "      <td>488.30</td>\n",
       "      <td>1837.52</td>\n",
       "      <td>108</td>\n",
       "      <td>106</td>\n",
       "      <td>2</td>\n",
       "      <td>6.91</td>\n",
       "    </tr>\n",
       "    <tr>\n",
       "      <th>5</th>\n",
       "      <td>Other Oilseeds</td>\n",
       "      <td>1.36</td>\n",
       "      <td>0.90</td>\n",
       "      <td>664.47</td>\n",
       "      <td>108</td>\n",
       "      <td>106</td>\n",
       "      <td>2</td>\n",
       "      <td>488.58</td>\n",
       "    </tr>\n",
       "  </tbody>\n",
       "</table>\n",
       "</div>"
      ],
      "text/plain": [
       "                Crops     Area  Production    Yield  Actual  Forecast  \\\n",
       "0           Groundnut  1694.42     4642.46  2739.85     108       106   \n",
       "1         Castor seed   724.77     1551.72  2140.99     108       106   \n",
       "2             Sesamum   163.31      130.71   800.42     108       106   \n",
       "3  Rapeseed & Mustard   277.35      554.53  1999.41     108       106   \n",
       "4            Soyabean   265.74      488.30  1837.52     108       106   \n",
       "5      Other Oilseeds     1.36        0.90   664.47     108       106   \n",
       "\n",
       "   Rainfall_Difference  Yield_Efficiency  \n",
       "0                    2              1.62  \n",
       "1                    2              2.95  \n",
       "2                    2              4.90  \n",
       "3                    2              7.21  \n",
       "4                    2              6.91  \n",
       "5                    2            488.58  "
      ]
     },
     "metadata": {},
     "output_type": "display_data"
    }
   ],
   "source": [
    "merged_df['Rainfall_Difference'] = merged_df['Actual'] - merged_df['Forecast']\n",
    "merged_df['Yield_Efficiency'] = (merged_df['Yield'] / merged_df['Area']).round(2)\n",
    "\n",
    "print(\"Derived metrics added!\")\n",
    "display(merged_df[['Crops', 'Area', 'Production', 'Yield', 'Actual', 'Forecast', 'Rainfall_Difference', 'Yield_Efficiency']])"
   ]
  },
  {
   "cell_type": "markdown",
   "id": "1d39c959-ff06-4a69-b057-32ddd5513ac8",
   "metadata": {},
   "source": [
    "## Step 5: Build a Simple Question–Answer Function"
   ]
  },
  {
   "cell_type": "code",
   "execution_count": 5,
   "id": "fafcee56-0498-47cc-bb9a-61ba15cf7293",
   "metadata": {},
   "outputs": [
    {
     "name": "stdout",
     "output_type": "stream",
     "text": [
      "Top 3 crops by yield:\n",
      "             Crops   Yield\n",
      "         Groundnut 2739.85\n",
      "       Castor seed 2140.99\n",
      "Rapeseed & Mustard 1999.41\n"
     ]
    }
   ],
   "source": [
    "def answer_query(query):\n",
    "    query = query.lower()\n",
    "\n",
    "    if \"top\" in query and \"yield\" in query:\n",
    "        n = 3\n",
    "        top_crops = merged_df.sort_values(by='Yield', ascending=False).head(n)\n",
    "        return f\"Top {n} crops by yield:\\n\" + str(top_crops[['Crops', 'Yield']].to_string(index=False))\n",
    "    \n",
    "    elif \"rainfall\" in query:\n",
    "        avg_rain = merged_df['Actual'].mean()\n",
    "        return f\"Average IMD recorded rainfall (2020–2024): {avg_rain:.2f} mm\"\n",
    "    \n",
    "    elif \"production\" in query and \"total\" in query:\n",
    "        total_prod = merged_df['Production'].sum()\n",
    "        return f\"Total crop production in Gujarat (all crops): {total_prod:.2f} tonnes\"\n",
    "    \n",
    "    elif \"efficiency\" in query:\n",
    "        eff = merged_df[['Crops', 'Yield_Efficiency']].sort_values(by='Yield_Efficiency', ascending=False)\n",
    "        return \"Crop yield efficiency (Yield per Area):\\n\" + str(eff.to_string(index=False))\n",
    "    \n",
    "    else:\n",
    "        return \"Sorry, I couldn't understand that query. Try: 'top crops by yield', 'total production', 'average rainfall', or 'efficiency'.\"\n",
    "\n",
    "# Test it\n",
    "print(answer_query(\"top crops by yield\"))"
   ]
  },
  {
   "cell_type": "markdown",
   "id": "6bccb27b-3d4f-4982-9a65-23285744fdf9",
   "metadata": {},
   "source": [
    "## Step 6: Add Visualization Helper Function"
   ]
  },
  {
   "cell_type": "code",
   "execution_count": 8,
   "id": "01093dae-df60-43e5-88fb-78090aa10d97",
   "metadata": {},
   "outputs": [
    {
     "name": "stderr",
     "output_type": "stream",
     "text": [
      "C:\\Users\\hp\\AppData\\Local\\Temp\\ipykernel_8212\\3294808891.py:3: FutureWarning: \n",
      "\n",
      "Passing `palette` without assigning `hue` is deprecated and will be removed in v0.14.0. Assign the `x` variable to `hue` and set `legend=False` for the same effect.\n",
      "\n",
      "  sns.barplot(x='Crops', y='Yield', data=merged_df, palette='coolwarm')\n"
     ]
    },
    {
     "data": {
      "image/png": "[encoded data removed]",
      "text/plain": [
       "<Figure size 800x400 with 1 Axes>"
      ]
     },
     "metadata": {},
     "output_type": "display_data"
    },
    {
     "data": {
      "image/png": "[encoded data removed]",
      "text/plain": [
       "<Figure size 600x400 with 1 Axes>"
      ]
     },
     "metadata": {},
     "output_type": "display_data"
    }
   ],
   "source": [
    "def visualize_data():\n",
    "    plt.figure(figsize=(8,4))\n",
    "    sns.barplot(x='Crops', y='Yield', data=merged_df, palette='coolwarm')\n",
    "    plt.title(\"Yield per Crop in Gujarat (2024)\")\n",
    "    plt.xticks(rotation=45)\n",
    "    plt.show()\n",
    "\n",
    "    plt.figure(figsize=(6,4))\n",
    "    sns.lineplot(x='Year', y='Actual', data=rain, marker='o', color='green')\n",
    "    plt.title(\"IMD Rainfall Trend (2020–2024)\")\n",
    "    plt.show()\n",
    "\n",
    "visualize_data()"
   ]
  },
  {
   "cell_type": "markdown",
   "id": "b6f7d230-bfbe-43d8-874e-13ff89597e3e",
   "metadata": {},
   "source": [
    "## Step 7: Try a Mini Conversation"
   ]
  },
  {
   "cell_type": "code",
   "execution_count": 10,
   "id": "16a52548-9555-451e-94e3-401282ae8483",
   "metadata": {},
   "outputs": [
    {
     "name": "stdout",
     "output_type": "stream",
     "text": [
      "Welcome to Bharat Agri-Insight Chatbot\n",
      "Type your question (or 'exit' to stop):\n"
     ]
    },
    {
     "name": "stdin",
     "output_type": "stream",
     "text": [
      ">>  total production\n"
     ]
    },
    {
     "name": "stdout",
     "output_type": "stream",
     "text": [
      "Total crop production in Gujarat (all crops): 7368.62 tonnes\n",
      "------------------------------------------------------------\n"
     ]
    },
    {
     "name": "stdin",
     "output_type": "stream",
     "text": [
      ">>  exit\n"
     ]
    },
    {
     "name": "stdout",
     "output_type": "stream",
     "text": [
      "Exiting chat. Thank you!\n"
     ]
    }
   ],
   "source": [
    "print(\"Welcome to Bharat Agri-Insight Chatbot\")\n",
    "print(\"Type your question (or 'exit' to stop):\")\n",
    "\n",
    "while True:\n",
    "    q = input(\">> \")\n",
    "    if q.lower() in ['exit', 'quit']:\n",
    "        print(\"Exiting chat. Thank you!\")\n",
    "        break\n",
    "    else:\n",
    "        print(answer_query(q))\n",
    "        print(\"-\" * 60)"
   ]
  },
  {
   "cell_type": "markdown",
   "id": "c133edfc-730b-4538-bc74-949827bfce25",
   "metadata": {},
   "source": [
    "## Step 8: Save Final Merged File"
   ]
  },
  {
   "cell_type": "code",
   "execution_count": 11,
   "id": "ebcb7bf1-92d6-48bf-989e-abc5b283f229",
   "metadata": {},
   "outputs": [
    {
     "name": "stdout",
     "output_type": "stream",
     "text": [
      "Final merged dataset saved!\n"
     ]
    }
   ],
   "source": [
    "merged_df.to_csv(r\"D:\\Internship_Project\\datasets\\merged_agri_rainfall.csv\", index=False)\n",
    "print(\"Final merged dataset saved!\")"
   ]
  },
  {
   "cell_type": "code",
   "execution_count": null,
   "id": "7bdee99f-2d5e-492c-a22e-f9f2458ef212",
   "metadata": {},
   "outputs": [],
   "source": []
  }
 ],
 "metadata": {
  "kernelspec": {
   "display_name": "Python 3 (ipykernel)",
   "language": "python",
   "name": "python3"
  },
  "language_info": {
   "codemirror_mode": {
    "name": "ipython",
    "version": 3
   },
   "file_extension": ".py",
   "mimetype": "text/x-python",
   "name": "python",
   "nbconvert_exporter": "python",
   "pygments_lexer": "ipython3",
   "version": "3.13.5"
  },
  "widgets": {
   "application/vnd.jupyter.widget-state+json": {
    "state": {},
    "version_major": 2,
    "version_minor": 0
   }
  }
 },
 "nbformat": 4,
 "nbformat_minor": 5
}
